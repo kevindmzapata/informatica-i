{
  "nbformat": 4,
  "nbformat_minor": 0,
  "metadata": {
    "colab": {
      "provenance": [],
      "authorship_tag": "ABX9TyNiFSVyJpftsc8twEpACmzl",
      "include_colab_link": true
    },
    "kernelspec": {
      "name": "python3",
      "display_name": "Python 3"
    },
    "language_info": {
      "name": "python"
    }
  },
  "cells": [
    {
      "cell_type": "markdown",
      "metadata": {
        "id": "view-in-github",
        "colab_type": "text"
      },
      "source": [
        "<a href=\"https://colab.research.google.com/github/kevindmzapata/informatica-i/blob/main/Ejemplos_Lab_03.ipynb\" target=\"_parent\"><img src=\"https://colab.research.google.com/assets/colab-badge.svg\" alt=\"Open In Colab\"/></a>"
      ]
    },
    {
      "cell_type": "markdown",
      "source": [
        "# Informática I - Ejemplos: Laboratorio No. 3"
      ],
      "metadata": {
        "id": "GGvnfXSTPUvC"
      }
    },
    {
      "cell_type": "markdown",
      "source": [
        "### 1. Tipos de datos"
      ],
      "metadata": {
        "id": "uAoHMVFoQLUK"
      }
    },
    {
      "cell_type": "code",
      "source": [
        "entero = 1\n",
        "flotante = 1.0\n",
        "cadena = \"Hola\"\n",
        "booleano = True\n",
        "\n",
        "print(type(entero))\n",
        "print(type(flotante))\n",
        "print(type(cadena))\n",
        "print(type(booleano))"
      ],
      "metadata": {
        "colab": {
          "base_uri": "https://localhost:8080/"
        },
        "id": "cFoJdNWdQCgC",
        "outputId": "61eaf7ec-63d8-4e58-db35-2052d7fab906"
      },
      "execution_count": 1,
      "outputs": [
        {
          "output_type": "stream",
          "name": "stdout",
          "text": [
            "<class 'int'>\n",
            "<class 'float'>\n",
            "<class 'str'>\n",
            "<class 'bool'>\n"
          ]
        }
      ]
    },
    {
      "cell_type": "markdown",
      "source": [
        "### 2. Operaciones básicas"
      ],
      "metadata": {
        "id": "wlkP9mLCQNXQ"
      }
    },
    {
      "cell_type": "code",
      "execution_count": 2,
      "metadata": {
        "id": "L9S0x-hObayw",
        "colab": {
          "base_uri": "https://localhost:8080/"
        },
        "outputId": "b515466d-abdb-43d8-8980-94b38fb2390c"
      },
      "outputs": [
        {
          "output_type": "stream",
          "name": "stdout",
          "text": [
            "Ingrese su nombre: Kevin\n",
            "Hola Kevin\n"
          ]
        }
      ],
      "source": [
        "nombre = input(\"Ingrese su nombre: \")\n",
        "print(\"Hola\", nombre)"
      ]
    },
    {
      "cell_type": "code",
      "source": [
        "numero_a = int(input(\"Ingrese el primer número: \"))\n",
        "numero_b = int(input(\"Ingrese el segundo número: \"))\n",
        "suma = numero_a + numero_b\n",
        "print(\"La suma de los números es:\", suma)"
      ],
      "metadata": {
        "colab": {
          "base_uri": "https://localhost:8080/"
        },
        "id": "vkAmjoOEPkdW",
        "outputId": "873c34c2-793b-454d-f8c1-47714b6c9cfd"
      },
      "execution_count": 3,
      "outputs": [
        {
          "output_type": "stream",
          "name": "stdout",
          "text": [
            "Ingrese el primer número: 3\n",
            "Ingrese el segundo número: 2\n",
            "La suma de los números es: 5\n"
          ]
        }
      ]
    },
    {
      "cell_type": "code",
      "source": [
        "division = numero_a / numero_b\n",
        "print(\"La división de los números es:\", division)"
      ],
      "metadata": {
        "colab": {
          "base_uri": "https://localhost:8080/"
        },
        "id": "RB-rGg1AP1L1",
        "outputId": "aefcf665-1fc9-44b8-827a-820c705afc93"
      },
      "execution_count": 4,
      "outputs": [
        {
          "output_type": "stream",
          "name": "stdout",
          "text": [
            "La división de los números es: 1.5\n"
          ]
        }
      ]
    },
    {
      "cell_type": "code",
      "source": [
        "division_entera = numero_a // numero_b\n",
        "print(\"La división entera de los números es:\", division_entera)"
      ],
      "metadata": {
        "colab": {
          "base_uri": "https://localhost:8080/"
        },
        "id": "EESMmtgfP3ew",
        "outputId": "16c801e8-dc97-4163-d16c-98179c821f3a"
      },
      "execution_count": 5,
      "outputs": [
        {
          "output_type": "stream",
          "name": "stdout",
          "text": [
            "La división entera de los números es: 1\n"
          ]
        }
      ]
    },
    {
      "cell_type": "markdown",
      "source": [
        "### 3. Ciclos y bucles"
      ],
      "metadata": {
        "id": "r2grllN1P9U8"
      }
    },
    {
      "cell_type": "code",
      "source": [
        "for i in range(1, 11):\n",
        "    print(i)"
      ],
      "metadata": {
        "colab": {
          "base_uri": "https://localhost:8080/"
        },
        "id": "p8bOQWnUQB0e",
        "outputId": "6d99df0a-7a56-4f2b-fa05-9d2269e7e3b0"
      },
      "execution_count": 6,
      "outputs": [
        {
          "output_type": "stream",
          "name": "stdout",
          "text": [
            "1\n",
            "2\n",
            "3\n",
            "4\n",
            "5\n",
            "6\n",
            "7\n",
            "8\n",
            "9\n",
            "10\n"
          ]
        }
      ]
    },
    {
      "cell_type": "code",
      "source": [
        "cont = 0\n",
        "while cont < 10:\n",
        "    print(cont)\n",
        "    cont += 1"
      ],
      "metadata": {
        "colab": {
          "base_uri": "https://localhost:8080/"
        },
        "id": "J_2R7KISQUTo",
        "outputId": "cdc7f1b4-60c9-4b8c-ca30-b4f9dde1c7f8"
      },
      "execution_count": 7,
      "outputs": [
        {
          "output_type": "stream",
          "name": "stdout",
          "text": [
            "0\n",
            "1\n",
            "2\n",
            "3\n",
            "4\n",
            "5\n",
            "6\n",
            "7\n",
            "8\n",
            "9\n"
          ]
        }
      ]
    },
    {
      "cell_type": "markdown",
      "source": [
        "### 4. Condicionales"
      ],
      "metadata": {
        "id": "s9CtG_LsQbau"
      }
    },
    {
      "cell_type": "code",
      "source": [
        "edad = int(input(\"Ingrese su edad: \"))\n",
        "if edad >= 18:\n",
        "    print(\"Eres mayor de edad\")\n",
        "else:\n",
        "    print(\"Eres menor de edad\")"
      ],
      "metadata": {
        "colab": {
          "base_uri": "https://localhost:8080/"
        },
        "id": "8ZpJU8pfQdyR",
        "outputId": "9c6febea-d95d-46cf-ecfa-42cfe19fc5dc"
      },
      "execution_count": 8,
      "outputs": [
        {
          "output_type": "stream",
          "name": "stdout",
          "text": [
            "Ingrese su edad: 15\n",
            "Eres menor de edad\n"
          ]
        }
      ]
    },
    {
      "cell_type": "markdown",
      "source": [
        "#### Ejemplo de aplicación no. 1"
      ],
      "metadata": {
        "id": "3gEo2hNEQwRs"
      }
    },
    {
      "cell_type": "code",
      "source": [
        "cadena = \"hola mundo!\"\n",
        "for letra in cadena:\n",
        "    print(letra)"
      ],
      "metadata": {
        "colab": {
          "base_uri": "https://localhost:8080/"
        },
        "id": "jFiPB-bSQv-Y",
        "outputId": "9e5590a4-1697-432f-ff8f-82fef48eb5a3"
      },
      "execution_count": 9,
      "outputs": [
        {
          "output_type": "stream",
          "name": "stdout",
          "text": [
            "h\n",
            "o\n",
            "l\n",
            "a\n",
            " \n",
            "m\n",
            "u\n",
            "n\n",
            "d\n",
            "o\n",
            "!\n"
          ]
        }
      ]
    },
    {
      "cell_type": "code",
      "source": [
        "vocales = \"aeiou\"\n",
        "for letra in cadena:\n",
        "    if not letra in vocales:\n",
        "        print(letra, end='')"
      ],
      "metadata": {
        "colab": {
          "base_uri": "https://localhost:8080/"
        },
        "id": "QNnjZ2kkQ9YM",
        "outputId": "28ec9ce9-1423-4c0a-fdc0-74b730ec2e47"
      },
      "execution_count": 10,
      "outputs": [
        {
          "output_type": "stream",
          "name": "stdout",
          "text": [
            "hl mnd!"
          ]
        }
      ]
    },
    {
      "cell_type": "markdown",
      "source": [
        "#### Ejemplo de aplicación no. 2"
      ],
      "metadata": {
        "id": "4EvtCyPIR90h"
      }
    },
    {
      "cell_type": "code",
      "source": [
        "cadena_2 = \"caballos\"\n",
        "cadena_3 = \"\"\n",
        "for idx, letra in enumerate(cadena_2):\n",
        "    aux = cadena_2[-1 - idx]\n",
        "    cadena_3 += aux\n",
        "print(cadena_3)"
      ],
      "metadata": {
        "colab": {
          "base_uri": "https://localhost:8080/"
        },
        "id": "bg_LRgNgR9nt",
        "outputId": "a2e5467a-498d-4f8f-e002-bcbf1726fb81"
      },
      "execution_count": 11,
      "outputs": [
        {
          "output_type": "stream",
          "name": "stdout",
          "text": [
            "sollabac\n"
          ]
        }
      ]
    },
    {
      "cell_type": "markdown",
      "source": [
        "#### Ejemplo de aplicación no. 3"
      ],
      "metadata": {
        "id": "VObj1B7qSzH9"
      }
    },
    {
      "cell_type": "code",
      "source": [
        "cadena_4 = \"123456789\"\n",
        "cadena_5 = \"\"\n",
        "for letra in cadena_4:\n",
        "    indice = (cadena_4.index(letra) + 1) % len(cadena_4)\n",
        "    cadena_5 += cadena_4[indice]\n",
        "print(cadena_5)"
      ],
      "metadata": {
        "colab": {
          "base_uri": "https://localhost:8080/"
        },
        "id": "wKQXPcizSzXc",
        "outputId": "8c280e41-1295-4cce-dd15-c857ac92f1a5"
      },
      "execution_count": 12,
      "outputs": [
        {
          "output_type": "stream",
          "name": "stdout",
          "text": [
            "234567891\n"
          ]
        }
      ]
    },
    {
      "cell_type": "markdown",
      "source": [
        "#### Ejemplo de aplicación no. 4"
      ],
      "metadata": {
        "id": "OJZvfTHNVCJi"
      }
    },
    {
      "cell_type": "code",
      "source": [
        "letra = input(\"Ingrese una letra: \").lower()\n",
        "vocales = \"aeiou\"\n",
        "if letra in vocales:\n",
        "    print(\"La letra es una vocal\")\n",
        "elif letra > 'a' and letra < 'z':\n",
        "    print(\"La letra es una consonante\")\n",
        "else:\n",
        "    print(\"No es una letra\")"
      ],
      "metadata": {
        "colab": {
          "base_uri": "https://localhost:8080/"
        },
        "id": "KTB63JvfVEOi",
        "outputId": "69c70825-0255-4389-bed5-e2e9c81b70e8"
      },
      "execution_count": 13,
      "outputs": [
        {
          "output_type": "stream",
          "name": "stdout",
          "text": [
            "Ingrese una letra: ?\n",
            "No es una letra\n"
          ]
        }
      ]
    }
  ]
}